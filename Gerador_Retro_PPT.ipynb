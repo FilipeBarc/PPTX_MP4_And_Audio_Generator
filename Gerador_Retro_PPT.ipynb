{
 "cells": [
  {
   "cell_type": "code",
   "execution_count": 75,
   "id": "82072212",
   "metadata": {},
   "outputs": [],
   "source": [
    "import os, sys\n",
    "import numpy as np\n",
    "import pandas as pd\n",
    "from pptx import Presentation\n",
    "import win32com.client\n",
    "from pptx.util import Pt\n",
    "from pptx.enum.text import PP_ALIGN\n",
    "import win32com.client as win32"
   ]
  },
  {
   "cell_type": "code",
   "execution_count": 76,
   "id": "39b685ed",
   "metadata": {},
   "outputs": [],
   "source": [
    "df = pd.read_excel('Dados_Participantes.xlsx')"
   ]
  },
  {
   "cell_type": "code",
   "execution_count": 77,
   "id": "0a3f5355",
   "metadata": {},
   "outputs": [],
   "source": [
    "arquivo = f'C:/Users/R5564655/Desktop/Retrospectiva/PowerPoint/Retrospectiva.pptx'\n",
    "saida = 'C:/Users/R5564655/Desktop/Retrospectiva/PowerPoint/Base_ppt/'\n",
    "\n",
    "def manter_formatacao_original(paragrafo, fonte_original):\n",
    "    for run in paragrafo.runs:\n",
    "        run.font.size = fonte_original.size\n",
    "        run.font.bold = fonte_original.bold\n",
    "        run.font.italic = fonte_original.italic\n",
    "        run.font.color.rgb = fonte_original.color.rgb\n",
    "        run.font.name = fonte_original.name\n",
    "        run.font.underline = fonte_original.underline\n",
    "def substituir_texto(apresentacao, texto_antigo, texto_novo):\n",
    "    for slide in apresentacao.slides:\n",
    "        for shape in slide.shapes:\n",
    "            if hasattr(shape, 'text'):\n",
    "                for paragrafo in shape.text_frame.paragraphs:\n",
    "                    for run in paragrafo.runs:\n",
    "                        if texto_antigo in run.text:\n",
    "                            fonte_original = run.font\n",
    "                            run.text = run.text.replace(texto_antigo, texto_novo)\n",
    "                            novo_paragrafo = shape.text_frame.add_paragraph()\n",
    "                            manter_formatacao_original(novo_paragrafo, fonte_original)\n",
    "\n",
    "for i in df.index:\n",
    "    CPF = str(df['CPF'][i])\n",
    "    nome = df['Nome'][i]\n",
    "    data = df['DataAdessao'][i]\n",
    "    meses = str(df['MesesAdesao'][i])\n",
    "    conta = \"{:.2f}\".format(df['ContribuicaoAnual'][i])\n",
    "    renda = \"{:.2f}\".format(df['RendimentoAnual'][i])\n",
    "    porta = \"{:.2f}\".format(df['Portabilidade'][i])\n",
    "    bem = str(df['NumBeneciarios'][i])\n",
    "    faz = str(df['NumIndicações'][i])\n",
    "    \n",
    "    apresentacao = Presentation(arquivo)\n",
    "    substituir_texto(apresentacao, '{nome}', nome)\n",
    "    substituir_texto(apresentacao, '{data}', data)\n",
    "    substituir_texto(apresentacao, '{meses}', meses)\n",
    "    substituir_texto(apresentacao, '{conta}', conta)\n",
    "    substituir_texto(apresentacao, '{renda}', renda)\n",
    "    substituir_texto(apresentacao, '{porta}', porta)\n",
    "    substituir_texto(apresentacao, '{bem}', bem)\n",
    "    substituir_texto(apresentacao, '{faz}', faz)\n",
    "    apresentacao.save(f'{saida}{CPF}.pptx')"
   ]
  },
  {
   "cell_type": "code",
   "execution_count": null,
   "id": "072e15c5",
   "metadata": {},
   "outputs": [],
   "source": []
  },
  {
   "cell_type": "code",
   "execution_count": null,
   "id": "0cd4d0ea",
   "metadata": {},
   "outputs": [],
   "source": []
  },
  {
   "cell_type": "code",
   "execution_count": null,
   "id": "4ce5e0d5",
   "metadata": {},
   "outputs": [],
   "source": []
  },
  {
   "cell_type": "code",
   "execution_count": 11,
   "id": "bbf33c8a",
   "metadata": {},
   "outputs": [
    {
     "name": "stdout",
     "output_type": "stream",
     "text": [
      "Email enviado\n",
      "Email enviado\n",
      "Email enviado\n",
      "Email enviado\n",
      "Email enviado\n",
      "Email enviado\n"
     ]
    }
   ],
   "source": [
    "for i in df.index:\n",
    "    \n",
    "    addreess = df['Email'][i]\n",
    "    nome = df['Nome'][i]\n",
    "    CPF = str(df['CPF'][i])\n",
    "    \n",
    "    outlook = win32.Dispatch('outlook.application')\n",
    "    email = outlook.CreateItem(0)\n",
    "\n",
    "    email.To = address\n",
    "    email.Subject = \"Restrospectiva Mais Visão **Teste**\"\n",
    "    email.HTMLBody = f\"\"\"\n",
    "    <p>Olá {nome}, que tal ver sua retrospectiva do Mais Visão?</p>\n",
    "    <p>O arquivo com a sua retrospectiva está anexado.</p>\n",
    "    <p>Para segurança das suas informações use os 4 últimos digitos do seu CPF para abrir este arquivo.</p>    \n",
    "    <p>Espero que o ano que vem seja tão incrível quanto este.</p>\n",
    "    <p>Até lá.</p>\n",
    "    \"\"\"\n",
    "    anexo = f'C:/Users/R5564655/Desktop/Retrospectiva/PowerPoint/Base_ppt/{CPF}.pptx'\n",
    "    email.Attachments.Add(anexo)\n",
    "    \n",
    "    email.Send()\n",
    "    print('Email enviado')"
   ]
  },
  {
   "cell_type": "code",
   "execution_count": null,
   "id": "5d107779",
   "metadata": {},
   "outputs": [],
   "source": []
  }
 ],
 "metadata": {
  "kernelspec": {
   "display_name": "Python 3 (ipykernel)",
   "language": "python",
   "name": "python3"
  },
  "language_info": {
   "codemirror_mode": {
    "name": "ipython",
    "version": 3
   },
   "file_extension": ".py",
   "mimetype": "text/x-python",
   "name": "python",
   "nbconvert_exporter": "python",
   "pygments_lexer": "ipython3",
   "version": "3.11.4"
  }
 },
 "nbformat": 4,
 "nbformat_minor": 5
}
