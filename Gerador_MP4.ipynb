{
 "cells": [
  {
   "cell_type": "code",
   "execution_count": 1,
   "id": "8e88b3e0",
   "metadata": {},
   "outputs": [],
   "source": [
    "import pandas as pd\n",
    "import numpy as np\n",
    "import time\n",
    "import win32com.client\n",
    "import os"
   ]
  },
  {
   "cell_type": "code",
   "execution_count": 2,
   "id": "49f5983f",
   "metadata": {},
   "outputs": [],
   "source": [
    "df = pd.read_excel('Dados_Participantes.xlsx')"
   ]
  },
  {
   "cell_type": "code",
   "execution_count": 3,
   "id": "dce06448",
   "metadata": {},
   "outputs": [
    {
     "name": "stdout",
     "output_type": "stream",
     "text": [
      "Tempo: 77.00191569328308 segundos\n",
      "Tempo: 77.00129199028015 segundos\n",
      "Tempo: 77.00084161758423 segundos\n",
      "Tempo: 77.00124311447144 segundos\n",
      "Tempo: 77.00021982192993 segundos\n"
     ]
    }
   ],
   "source": [
    "entrada = 'C:/Users/R5564655/Desktop/Retrospectiva/PowerPoint/Base_ppt/'\n",
    "saida = 'C:/Users/R5564655/Desktop/Retrospectiva/PowerPoint/Base_MP4/'\n",
    "\n",
    "def conversor(pptx,video):\n",
    "    ppt = win32com.client.Dispatch('PowerPoint.Application')\n",
    "    presentation = ppt.Presentations.Open(pptx)\n",
    "    presentation.CreateVideo(video,-1,4,720,24,60)\n",
    "    start_time_stamp = time.time()\n",
    "    time.sleep(77)\n",
    "    end_time_stamp= time.time()\n",
    "    print(f'Tempo: {end_time_stamp-start_time_stamp} segundos')\n",
    "    ppt.Quit()\n",
    "    presentation.Close()\n",
    "\n",
    "for i in df.index:    \n",
    "    CPF = str(df['CPF'][i])\n",
    "    conversor(f'{entrada}{CPF}.pptx',f'{saida}{CPF}')"
   ]
  },
  {
   "cell_type": "code",
   "execution_count": null,
   "id": "c2dda917",
   "metadata": {},
   "outputs": [],
   "source": []
  },
  {
   "cell_type": "code",
   "execution_count": null,
   "id": "e4220273",
   "metadata": {},
   "outputs": [],
   "source": []
  },
  {
   "cell_type": "code",
   "execution_count": null,
   "id": "ce9146f3",
   "metadata": {},
   "outputs": [],
   "source": []
  },
  {
   "cell_type": "code",
   "execution_count": null,
   "id": "8e0b1c39",
   "metadata": {},
   "outputs": [],
   "source": []
  },
  {
   "cell_type": "code",
   "execution_count": null,
   "id": "42ca5709",
   "metadata": {},
   "outputs": [],
   "source": []
  }
 ],
 "metadata": {
  "kernelspec": {
   "display_name": "Python 3 (ipykernel)",
   "language": "python",
   "name": "python3"
  },
  "language_info": {
   "codemirror_mode": {
    "name": "ipython",
    "version": 3
   },
   "file_extension": ".py",
   "mimetype": "text/x-python",
   "name": "python",
   "nbconvert_exporter": "python",
   "pygments_lexer": "ipython3",
   "version": "3.11.4"
  }
 },
 "nbformat": 4,
 "nbformat_minor": 5
}
