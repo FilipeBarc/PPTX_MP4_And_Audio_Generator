{
 "cells": [
  {
   "cell_type": "code",
   "execution_count": 8,
   "id": "5f8cde91",
   "metadata": {},
   "outputs": [],
   "source": [
    "import numpy as np\n",
    "import pandas as pd\n",
    "from moviepy.editor import VideoFileClip, AudioFileClip\n",
    "import moviepy.editor as mpe"
   ]
  },
  {
   "cell_type": "code",
   "execution_count": 9,
   "id": "025d7935",
   "metadata": {},
   "outputs": [],
   "source": [
    "df = pd.read_excel('Dados_Participantes.xlsx')"
   ]
  },
  {
   "cell_type": "code",
   "execution_count": 10,
   "id": "3d863eb2",
   "metadata": {},
   "outputs": [
    {
     "name": "stdout",
     "output_type": "stream",
     "text": [
      "Moviepy - Building video C:/Users/R5564655/Desktop/Retrospectiva/PowerPoint/Video_Pronto/12345678912.mp4.\n",
      "MoviePy - Writing audio in 12345678912TEMP_MPY_wvf_snd.mp3\n"
     ]
    },
    {
     "name": "stderr",
     "output_type": "stream",
     "text": [
      "                                                                                                                       \r"
     ]
    },
    {
     "name": "stdout",
     "output_type": "stream",
     "text": [
      "MoviePy - Done.\n",
      "Moviepy - Writing video C:/Users/R5564655/Desktop/Retrospectiva/PowerPoint/Video_Pronto/12345678912.mp4\n",
      "\n"
     ]
    },
    {
     "name": "stderr",
     "output_type": "stream",
     "text": [
      "                                                                                                                       \r"
     ]
    },
    {
     "name": "stdout",
     "output_type": "stream",
     "text": [
      "Moviepy - Done !\n",
      "Moviepy - video ready C:/Users/R5564655/Desktop/Retrospectiva/PowerPoint/Video_Pronto/12345678912.mp4\n",
      "Moviepy - Building video C:/Users/R5564655/Desktop/Retrospectiva/PowerPoint/Video_Pronto/98765432198.mp4.\n",
      "MoviePy - Writing audio in 98765432198TEMP_MPY_wvf_snd.mp3\n"
     ]
    },
    {
     "name": "stderr",
     "output_type": "stream",
     "text": [
      "                                                                                                                       \r"
     ]
    },
    {
     "name": "stdout",
     "output_type": "stream",
     "text": [
      "MoviePy - Done.\n",
      "Moviepy - Writing video C:/Users/R5564655/Desktop/Retrospectiva/PowerPoint/Video_Pronto/98765432198.mp4\n",
      "\n"
     ]
    },
    {
     "name": "stderr",
     "output_type": "stream",
     "text": [
      "                                                                                                                       \r"
     ]
    },
    {
     "name": "stdout",
     "output_type": "stream",
     "text": [
      "Moviepy - Done !\n",
      "Moviepy - video ready C:/Users/R5564655/Desktop/Retrospectiva/PowerPoint/Video_Pronto/98765432198.mp4\n",
      "Moviepy - Building video C:/Users/R5564655/Desktop/Retrospectiva/PowerPoint/Video_Pronto/56123789456.mp4.\n",
      "MoviePy - Writing audio in 56123789456TEMP_MPY_wvf_snd.mp3\n"
     ]
    },
    {
     "name": "stderr",
     "output_type": "stream",
     "text": [
      "                                                                                                                       \r"
     ]
    },
    {
     "name": "stdout",
     "output_type": "stream",
     "text": [
      "MoviePy - Done.\n",
      "Moviepy - Writing video C:/Users/R5564655/Desktop/Retrospectiva/PowerPoint/Video_Pronto/56123789456.mp4\n",
      "\n"
     ]
    },
    {
     "name": "stderr",
     "output_type": "stream",
     "text": [
      "                                                                                                                       \r"
     ]
    },
    {
     "name": "stdout",
     "output_type": "stream",
     "text": [
      "Moviepy - Done !\n",
      "Moviepy - video ready C:/Users/R5564655/Desktop/Retrospectiva/PowerPoint/Video_Pronto/56123789456.mp4\n",
      "Moviepy - Building video C:/Users/R5564655/Desktop/Retrospectiva/PowerPoint/Video_Pronto/56123789457.mp4.\n",
      "MoviePy - Writing audio in 56123789457TEMP_MPY_wvf_snd.mp3\n"
     ]
    },
    {
     "name": "stderr",
     "output_type": "stream",
     "text": [
      "                                                                                                                       \r"
     ]
    },
    {
     "name": "stdout",
     "output_type": "stream",
     "text": [
      "MoviePy - Done.\n",
      "Moviepy - Writing video C:/Users/R5564655/Desktop/Retrospectiva/PowerPoint/Video_Pronto/56123789457.mp4\n",
      "\n"
     ]
    },
    {
     "name": "stderr",
     "output_type": "stream",
     "text": [
      "                                                                                                                       \r"
     ]
    },
    {
     "name": "stdout",
     "output_type": "stream",
     "text": [
      "Moviepy - Done !\n",
      "Moviepy - video ready C:/Users/R5564655/Desktop/Retrospectiva/PowerPoint/Video_Pronto/56123789457.mp4\n",
      "Moviepy - Building video C:/Users/R5564655/Desktop/Retrospectiva/PowerPoint/Video_Pronto/98765432154.mp4.\n",
      "MoviePy - Writing audio in 98765432154TEMP_MPY_wvf_snd.mp3\n"
     ]
    },
    {
     "name": "stderr",
     "output_type": "stream",
     "text": [
      "                                                                                                                       \r"
     ]
    },
    {
     "name": "stdout",
     "output_type": "stream",
     "text": [
      "MoviePy - Done.\n",
      "Moviepy - Writing video C:/Users/R5564655/Desktop/Retrospectiva/PowerPoint/Video_Pronto/98765432154.mp4\n",
      "\n"
     ]
    },
    {
     "name": "stderr",
     "output_type": "stream",
     "text": [
      "                                                                                                                       \r"
     ]
    },
    {
     "name": "stdout",
     "output_type": "stream",
     "text": [
      "Moviepy - Done !\n",
      "Moviepy - video ready C:/Users/R5564655/Desktop/Retrospectiva/PowerPoint/Video_Pronto/98765432154.mp4\n"
     ]
    }
   ],
   "source": [
    "entrada_video = 'C:/Users/R5564655/Desktop/Retrospectiva/PowerPoint/Base_MP4/'\n",
    "entrada_audio = 'C:/Users/R5564655/Desktop/Retrospectiva/PowerPoint/Audio.mp3'\n",
    "saida = 'C:/Users/R5564655/Desktop/Retrospectiva/PowerPoint/Video_Pronto/'\n",
    "\n",
    "for i in df.index:\n",
    "    CPF = str(df['CPF'][i])\n",
    "    video_clip = VideoFileClip(f'{entrada_video}{CPF}.mp4')\n",
    "    audio_clip = AudioFileClip(entrada_audio)\n",
    "    audio_clip = audio_clip.subclip(0, video_clip.duration)\n",
    "    video_clip = video_clip.set_audio(audio_clip.subclip(0, video_clip.duration))\n",
    "    video_clip.write_videofile(f'{saida}{CPF}.mp4', codec='libx264', audio_codec='libmp3lame', fps=30)"
   ]
  },
  {
   "cell_type": "code",
   "execution_count": null,
   "id": "439b8ba7",
   "metadata": {},
   "outputs": [],
   "source": []
  },
  {
   "cell_type": "code",
   "execution_count": null,
   "id": "b54828e0",
   "metadata": {},
   "outputs": [],
   "source": []
  },
  {
   "cell_type": "code",
   "execution_count": null,
   "id": "c14009f6",
   "metadata": {},
   "outputs": [],
   "source": []
  }
 ],
 "metadata": {
  "kernelspec": {
   "display_name": "Python 3 (ipykernel)",
   "language": "python",
   "name": "python3"
  },
  "language_info": {
   "codemirror_mode": {
    "name": "ipython",
    "version": 3
   },
   "file_extension": ".py",
   "mimetype": "text/x-python",
   "name": "python",
   "nbconvert_exporter": "python",
   "pygments_lexer": "ipython3",
   "version": "3.11.4"
  }
 },
 "nbformat": 4,
 "nbformat_minor": 5
}
